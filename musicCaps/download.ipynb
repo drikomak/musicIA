{
 "cells": [
  {
   "cell_type": "code",
   "execution_count": 1,
   "id": "16659888-ad5f-4764-a943-8ee9ea549756",
   "metadata": {},
   "outputs": [],
   "source": [
    "%%capture\n",
    "! pip install datasets[audio] yt-dlp\n",
    "\n",
    "! pip install gradio"
   ]
  },
  {
   "cell_type": "code",
   "execution_count": 14,
   "id": "c266d128-f94a-4340-a3d9-0ceb8ad208b9",
   "metadata": {},
   "outputs": [],
   "source": [
    "\n",
    "def main(data_dir: str, sampling_rate: int = 44100, limit: int = None, num_proc: int = 1, writer_batch_size: int = 1000):\n",
    "    \"\"\"\n",
    "    Download the clips within the MusicCaps dataset from YouTube.\n",
    "    Args:\n",
    "        data_dir: Directory to save the clips to.\n",
    "        sampling_rate: Sampling rate of the audio clips.\n",
    "        limit: Limit the number of examples to download.\n",
    "        num_proc: Number of processes to use for downloading.\n",
    "        writer_batch_size: Batch size for writing the dataset. This is per process.\n",
    "    \"\"\"\n",
    "    import subprocess\n",
    "    import os\n",
    "    from pathlib import Path\n",
    "\n",
    "    from datasets import load_dataset, Audio\n",
    "\n",
    "    def download_clip(video_identifier, output_filename, start_time, end_time, tmp_dir='/tmp/musiccaps', num_attempts=5, url_base='https://www.youtube.com/watch?v='):\n",
    "        status = False\n",
    "        command = f\"\"\"\n",
    "            yt-dlp --quiet --no-warnings -x --audio-format wav -f bestaudio -o \"{output_filename}\" --download-sections \"*{start_time}-{end_time}\" {url_base}{video_identifier}\n",
    "        \"\"\".strip()\n",
    "\n",
    "        attempts = 0\n",
    "        while True:\n",
    "            try:\n",
    "                output = subprocess.check_output(command, shell=True,\n",
    "                                                    stderr=subprocess.STDOUT)\n",
    "            except subprocess.CalledProcessError as err:\n",
    "                attempts += 1\n",
    "                f = open(\"error.txt\",\"a\")\n",
    "                f.write(err.output.decode(\"utf-8\"))\n",
    "                f.close()\n",
    "                if attempts == num_attempts:\n",
    "                    return status, err.output\n",
    "            else:\n",
    "                break\n",
    "\n",
    "        # Check if the video was successfully saved.\n",
    "        status = os.path.exists(output_filename)\n",
    "        return status, 'Downloaded'\n",
    "\n",
    "\n",
    "    ds = load_dataset('google/MusicCaps', split='train')\n",
    "    if limit is not None:\n",
    "        print(f\"Limiting to {limit} examples\")\n",
    "        ds = ds.select(range(limit))\n",
    "\n",
    "    data_dir = Path(data_dir)\n",
    "    data_dir.mkdir(exist_ok=True, parents=True)\n",
    "\n",
    "    def process(example):\n",
    "        outfile_path = str(data_dir / f\"{example['ytid']}.wav\")\n",
    "        status = True\n",
    "        if not os.path.exists(outfile_path):\n",
    "            status = False\n",
    "            status, log = download_clip(example['ytid'], outfile_path, example['start_s'], example['end_s'])\n",
    "\n",
    "        example['audio'] = outfile_path\n",
    "        example['download_status'] = status\n",
    "        return example\n",
    "\n",
    "    return ds.map(process, num_proc=num_proc, writer_batch_size=writer_batch_size, keep_in_memory=False).cast_column('audio', Audio(sampling_rate=sampling_rate))"
   ]
  },
  {
   "cell_type": "code",
   "execution_count": 18,
   "id": "c1c11558-eec0-49b8-9934-5185f894e588",
   "metadata": {},
   "outputs": [
    {
     "name": "stderr",
     "output_type": "stream",
     "text": [
      "Map (num_proc=20): 100%|██████████| 5521/5521 [1:04:50<00:00,  1.42 examples/s]\n"
     ]
    }
   ],
   "source": [
    "ds = main('music_data', num_proc=20)"
   ]
  },
  {
   "cell_type": "code",
   "execution_count": null,
   "id": "e5bc5750-2d2b-4a14-b312-ff40bc123589",
   "metadata": {},
   "outputs": [
    {
     "ename": "",
     "evalue": "",
     "output_type": "error",
     "traceback": [
      "\u001b[1;31mFailed to start the Kernel. \n",
      "\u001b[1;31mBad file descriptor (C:\\Users\\runneradmin\\AppData\\Local\\Temp\\tmpkywtyyea\\build\\_deps\\bundled_libzmq-src\\src\\epoll.cpp:73). \n",
      "\u001b[1;31mView Jupyter <a href='command:jupyter.viewOutput'>log</a> for further details."
     ]
    }
   ],
   "source": []
  }
 ],
 "metadata": {
  "kernelspec": {
   "display_name": "Python 3 (ipykernel)",
   "language": "python",
   "name": "python3"
  },
  "language_info": {
   "codemirror_mode": {
    "name": "ipython",
    "version": 3
   },
   "file_extension": ".py",
   "mimetype": "text/x-python",
   "name": "python",
   "nbconvert_exporter": "python",
   "pygments_lexer": "ipython3",
   "version": "3.12.3"
  }
 },
 "nbformat": 4,
 "nbformat_minor": 5
}
